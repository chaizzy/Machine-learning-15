{
 "cells": [
  {
   "cell_type": "code",
   "execution_count": 1,
   "id": "ecc73d0e-fca6-444b-92d3-290d1e10fe4a",
   "metadata": {},
   "outputs": [],
   "source": [
    "# ANS 1:\n",
    "# \"Polynomial functions\"\n",
    "# Polynomial functions are a type of mathematical function that involves variables raised to non-negative integer powers \n",
    "# and combined through addition and multiplication. \n",
    "# In machine learning, polynomial functions are commonly used as basis functions to represent data in a higher-dimensional space\n",
    "\n",
    "# \"Kernel functions\"\n",
    "# kernel functions are used in kernel methods,\n",
    "# which are a class of algorithms commonly employed in machine learning tasks such as support vector machines (SVM)\n",
    "\n",
    "# The relationship between polynomial functions and kernel functions lies in the fact that certain kernel functions can be interpreted \n",
    "# as implicitly mapping the input data into a higher-dimensional space, where polynomial functions act as the basis functions. \n",
    "# In other words, some kernel functions exhibit a similar effect as transforming the input features into polynomial features. \n",
    "# This property is known as the kernel trick."
   ]
  },
  {
   "cell_type": "code",
   "execution_count": 2,
   "id": "abaa2fc1-d810-4d67-9d5e-66566e7fcb8d",
   "metadata": {},
   "outputs": [],
   "source": [
    "# ANS 2:\n",
    "# Steps\n",
    "# 1.we have to import the package from scikit learn\n",
    "# 2.then Create an instance of the SVM classifier with the polynomial kernel.\n",
    "# 3. train the classifier on training data"
   ]
  },
  {
   "cell_type": "code",
   "execution_count": 3,
   "id": "75a7362c-48c6-49b7-ae59-3e4248e6bff5",
   "metadata": {},
   "outputs": [],
   "source": [
    "# ANS 3:\n",
    "# epsilon is a marginal error\n",
    "# In Support Vector Regression (SVR), the parameter epsilon (ε) represents the width of the ε-insensitive tube around the regression line. \n",
    "# It determines the tolerance for errors in the training data.\n",
    "\n",
    "# When the value of epsilon is small, \n",
    "# the ε-insensitive tube becomes narrow, and the SVR model becomes more sensitive to errors. \n",
    "# In this case, the model aims to fit the training data as closely as possible, potentially leading to a larger number of support vectors.\n",
    "\n",
    "# when the value of epsilon is large, the ε-insensitive tube widens, and the SVR model becomes more tolerant to errors. \n",
    "# The model allows more data points to fall within the tube without incurring a penalty, leading to fewer support vectors."
   ]
  },
  {
   "cell_type": "code",
   "execution_count": 4,
   "id": "2c78e871-be62-4e61-bf21-24c645d9c835",
   "metadata": {},
   "outputs": [],
   "source": [
    "# ANS 4 :\n",
    "# kernel fucntion\n",
    "# 1.The kernel function determines the type of decision boundary that SVR will learn. \n",
    "# kernel functions are linear, polynomial, radial basis function (RBF)/Gaussian, and sigmoid\n",
    "# Linear kernel: It is suitable when the relationship between features and target variables is expected to be linear.\n",
    "# Polynomial kernel: It is useful when the relationship is expected to be polynomial or when higher-order interactions between features are relevant.\n",
    "# RBF kernel: It is a good choice for capturing complex nonlinear relationships between features.\n",
    "# Sigmoid kernel: It is suitable for problems where the relationship has a sigmoidal shape.\n",
    "\n",
    "# 'C' parameter\n",
    "# The C parameter controls the trade-off between maximizing the margin and minimizing the training error\n",
    "# Increasing C: It imposes a stricter penalty on deviations, leading to a narrower margin and potentially more support vectors.\n",
    "# Decreasing C: It allows more deviations and errors, resulting in a wider margin and potentially fewer support vectors.\n",
    "\n",
    "# epsilon\n",
    "# epsilon is a marginal error\n",
    "# In Support Vector Regression (SVR), the parameter epsilon (ε) represents the width of the ε-insensitive tube around the regression line. \n",
    "# It determines the tolerance for errors in the training data.\n",
    "\n",
    "# When the value of epsilon is small, \n",
    "# the ε-insensitive tube becomes narrow, and the SVR model becomes more sensitive to errors. \n",
    "# In this case, the model aims to fit the training data as closely as possible, potentially leading to a larger number of support vectors.\n",
    "\n",
    "# when the value of epsilon is large, the ε-insensitive tube widens, and the SVR model becomes more tolerant to errors. \n",
    "# The model allows more data points to fall within the tube without incurring a penalty, leading to fewer support vectors.\n",
    "\n",
    "# Gamma Parameter\n",
    "# The gamma parameter determines the influence of each training example on the SVR model. It defines the shape of the decision boundary.\n",
    "# Increasing gamma: It makes the decision boundary more localized and can lead to a more complex and flexible model. \n",
    "#Decreasing gamma: It spreads the influence of each training example over a larger area, resulting in a smoother decision boundary."
   ]
  },
  {
   "cell_type": "code",
   "execution_count": 7,
   "id": "796be8e3-c05b-47c8-a3e4-c921d22b747b",
   "metadata": {},
   "outputs": [],
   "source": [
    "import pandas as pd \n",
    "import numpy as np\n",
    "import seaborn as sns\n",
    "import matplotlib.pyplot as plt"
   ]
  },
  {
   "cell_type": "code",
   "execution_count": 8,
   "id": "82e21c1a-e575-4d5c-a6fc-65fe128f91bb",
   "metadata": {},
   "outputs": [],
   "source": [
    "df = pd.read_csv(\"diabetes (1).csv\")"
   ]
  },
  {
   "cell_type": "code",
   "execution_count": 9,
   "id": "7f5214e6-48c8-42bc-9489-2bb10d23ee21",
   "metadata": {},
   "outputs": [
    {
     "data": {
      "text/html": [
       "<div>\n",
       "<style scoped>\n",
       "    .dataframe tbody tr th:only-of-type {\n",
       "        vertical-align: middle;\n",
       "    }\n",
       "\n",
       "    .dataframe tbody tr th {\n",
       "        vertical-align: top;\n",
       "    }\n",
       "\n",
       "    .dataframe thead th {\n",
       "        text-align: right;\n",
       "    }\n",
       "</style>\n",
       "<table border=\"1\" class=\"dataframe\">\n",
       "  <thead>\n",
       "    <tr style=\"text-align: right;\">\n",
       "      <th></th>\n",
       "      <th>Pregnancies</th>\n",
       "      <th>Glucose</th>\n",
       "      <th>BloodPressure</th>\n",
       "      <th>SkinThickness</th>\n",
       "      <th>Insulin</th>\n",
       "      <th>BMI</th>\n",
       "      <th>DiabetesPedigreeFunction</th>\n",
       "      <th>Age</th>\n",
       "      <th>Outcome</th>\n",
       "    </tr>\n",
       "  </thead>\n",
       "  <tbody>\n",
       "    <tr>\n",
       "      <th>0</th>\n",
       "      <td>6</td>\n",
       "      <td>148</td>\n",
       "      <td>72</td>\n",
       "      <td>35</td>\n",
       "      <td>0</td>\n",
       "      <td>33.6</td>\n",
       "      <td>0.627</td>\n",
       "      <td>50</td>\n",
       "      <td>1</td>\n",
       "    </tr>\n",
       "    <tr>\n",
       "      <th>1</th>\n",
       "      <td>1</td>\n",
       "      <td>85</td>\n",
       "      <td>66</td>\n",
       "      <td>29</td>\n",
       "      <td>0</td>\n",
       "      <td>26.6</td>\n",
       "      <td>0.351</td>\n",
       "      <td>31</td>\n",
       "      <td>0</td>\n",
       "    </tr>\n",
       "    <tr>\n",
       "      <th>2</th>\n",
       "      <td>8</td>\n",
       "      <td>183</td>\n",
       "      <td>64</td>\n",
       "      <td>0</td>\n",
       "      <td>0</td>\n",
       "      <td>23.3</td>\n",
       "      <td>0.672</td>\n",
       "      <td>32</td>\n",
       "      <td>1</td>\n",
       "    </tr>\n",
       "    <tr>\n",
       "      <th>3</th>\n",
       "      <td>1</td>\n",
       "      <td>89</td>\n",
       "      <td>66</td>\n",
       "      <td>23</td>\n",
       "      <td>94</td>\n",
       "      <td>28.1</td>\n",
       "      <td>0.167</td>\n",
       "      <td>21</td>\n",
       "      <td>0</td>\n",
       "    </tr>\n",
       "    <tr>\n",
       "      <th>4</th>\n",
       "      <td>0</td>\n",
       "      <td>137</td>\n",
       "      <td>40</td>\n",
       "      <td>35</td>\n",
       "      <td>168</td>\n",
       "      <td>43.1</td>\n",
       "      <td>2.288</td>\n",
       "      <td>33</td>\n",
       "      <td>1</td>\n",
       "    </tr>\n",
       "  </tbody>\n",
       "</table>\n",
       "</div>"
      ],
      "text/plain": [
       "   Pregnancies  Glucose  BloodPressure  SkinThickness  Insulin   BMI  \\\n",
       "0            6      148             72             35        0  33.6   \n",
       "1            1       85             66             29        0  26.6   \n",
       "2            8      183             64              0        0  23.3   \n",
       "3            1       89             66             23       94  28.1   \n",
       "4            0      137             40             35      168  43.1   \n",
       "\n",
       "   DiabetesPedigreeFunction  Age  Outcome  \n",
       "0                     0.627   50        1  \n",
       "1                     0.351   31        0  \n",
       "2                     0.672   32        1  \n",
       "3                     0.167   21        0  \n",
       "4                     2.288   33        1  "
      ]
     },
     "execution_count": 9,
     "metadata": {},
     "output_type": "execute_result"
    }
   ],
   "source": [
    "df.head()"
   ]
  },
  {
   "cell_type": "code",
   "execution_count": 10,
   "id": "9f66fac9-08b3-4ac7-b584-132c8fac26e4",
   "metadata": {},
   "outputs": [
    {
     "name": "stdout",
     "output_type": "stream",
     "text": [
      "<class 'pandas.core.frame.DataFrame'>\n",
      "RangeIndex: 768 entries, 0 to 767\n",
      "Data columns (total 9 columns):\n",
      " #   Column                    Non-Null Count  Dtype  \n",
      "---  ------                    --------------  -----  \n",
      " 0   Pregnancies               768 non-null    int64  \n",
      " 1   Glucose                   768 non-null    int64  \n",
      " 2   BloodPressure             768 non-null    int64  \n",
      " 3   SkinThickness             768 non-null    int64  \n",
      " 4   Insulin                   768 non-null    int64  \n",
      " 5   BMI                       768 non-null    float64\n",
      " 6   DiabetesPedigreeFunction  768 non-null    float64\n",
      " 7   Age                       768 non-null    int64  \n",
      " 8   Outcome                   768 non-null    int64  \n",
      "dtypes: float64(2), int64(7)\n",
      "memory usage: 54.1 KB\n"
     ]
    }
   ],
   "source": [
    "df.info()"
   ]
  },
  {
   "cell_type": "code",
   "execution_count": 11,
   "id": "f483de17-9f96-4934-855f-2380bdf17464",
   "metadata": {},
   "outputs": [],
   "source": [
    "x=df.iloc[:,:-1]\n",
    "y=df[\"Outcome\"]"
   ]
  },
  {
   "cell_type": "code",
   "execution_count": 12,
   "id": "33d2f864-4e24-4f31-8997-3980c2e31fe9",
   "metadata": {},
   "outputs": [],
   "source": [
    "from sklearn.model_selection import train_test_split\n",
    "x_train,x_test,y_train,y_test = train_test_split(x,y,test_size=0.25,random_state=0)"
   ]
  },
  {
   "cell_type": "code",
   "execution_count": 13,
   "id": "2d0f7ec9-bbbe-41c8-a7b5-b72dbdc68107",
   "metadata": {},
   "outputs": [
    {
     "data": {
      "text/html": [
       "<div>\n",
       "<style scoped>\n",
       "    .dataframe tbody tr th:only-of-type {\n",
       "        vertical-align: middle;\n",
       "    }\n",
       "\n",
       "    .dataframe tbody tr th {\n",
       "        vertical-align: top;\n",
       "    }\n",
       "\n",
       "    .dataframe thead th {\n",
       "        text-align: right;\n",
       "    }\n",
       "</style>\n",
       "<table border=\"1\" class=\"dataframe\">\n",
       "  <thead>\n",
       "    <tr style=\"text-align: right;\">\n",
       "      <th></th>\n",
       "      <th>Pregnancies</th>\n",
       "      <th>Glucose</th>\n",
       "      <th>BloodPressure</th>\n",
       "      <th>SkinThickness</th>\n",
       "      <th>Insulin</th>\n",
       "      <th>BMI</th>\n",
       "      <th>DiabetesPedigreeFunction</th>\n",
       "      <th>Age</th>\n",
       "    </tr>\n",
       "  </thead>\n",
       "  <tbody>\n",
       "    <tr>\n",
       "      <th>762</th>\n",
       "      <td>9</td>\n",
       "      <td>89</td>\n",
       "      <td>62</td>\n",
       "      <td>0</td>\n",
       "      <td>0</td>\n",
       "      <td>22.5</td>\n",
       "      <td>0.142</td>\n",
       "      <td>33</td>\n",
       "    </tr>\n",
       "    <tr>\n",
       "      <th>127</th>\n",
       "      <td>1</td>\n",
       "      <td>118</td>\n",
       "      <td>58</td>\n",
       "      <td>36</td>\n",
       "      <td>94</td>\n",
       "      <td>33.3</td>\n",
       "      <td>0.261</td>\n",
       "      <td>23</td>\n",
       "    </tr>\n",
       "    <tr>\n",
       "      <th>564</th>\n",
       "      <td>0</td>\n",
       "      <td>91</td>\n",
       "      <td>80</td>\n",
       "      <td>0</td>\n",
       "      <td>0</td>\n",
       "      <td>32.4</td>\n",
       "      <td>0.601</td>\n",
       "      <td>27</td>\n",
       "    </tr>\n",
       "    <tr>\n",
       "      <th>375</th>\n",
       "      <td>12</td>\n",
       "      <td>140</td>\n",
       "      <td>82</td>\n",
       "      <td>43</td>\n",
       "      <td>325</td>\n",
       "      <td>39.2</td>\n",
       "      <td>0.528</td>\n",
       "      <td>58</td>\n",
       "    </tr>\n",
       "    <tr>\n",
       "      <th>663</th>\n",
       "      <td>9</td>\n",
       "      <td>145</td>\n",
       "      <td>80</td>\n",
       "      <td>46</td>\n",
       "      <td>130</td>\n",
       "      <td>37.9</td>\n",
       "      <td>0.637</td>\n",
       "      <td>40</td>\n",
       "    </tr>\n",
       "    <tr>\n",
       "      <th>...</th>\n",
       "      <td>...</td>\n",
       "      <td>...</td>\n",
       "      <td>...</td>\n",
       "      <td>...</td>\n",
       "      <td>...</td>\n",
       "      <td>...</td>\n",
       "      <td>...</td>\n",
       "      <td>...</td>\n",
       "    </tr>\n",
       "    <tr>\n",
       "      <th>763</th>\n",
       "      <td>10</td>\n",
       "      <td>101</td>\n",
       "      <td>76</td>\n",
       "      <td>48</td>\n",
       "      <td>180</td>\n",
       "      <td>32.9</td>\n",
       "      <td>0.171</td>\n",
       "      <td>63</td>\n",
       "    </tr>\n",
       "    <tr>\n",
       "      <th>192</th>\n",
       "      <td>7</td>\n",
       "      <td>159</td>\n",
       "      <td>66</td>\n",
       "      <td>0</td>\n",
       "      <td>0</td>\n",
       "      <td>30.4</td>\n",
       "      <td>0.383</td>\n",
       "      <td>36</td>\n",
       "    </tr>\n",
       "    <tr>\n",
       "      <th>629</th>\n",
       "      <td>4</td>\n",
       "      <td>94</td>\n",
       "      <td>65</td>\n",
       "      <td>22</td>\n",
       "      <td>0</td>\n",
       "      <td>24.7</td>\n",
       "      <td>0.148</td>\n",
       "      <td>21</td>\n",
       "    </tr>\n",
       "    <tr>\n",
       "      <th>559</th>\n",
       "      <td>11</td>\n",
       "      <td>85</td>\n",
       "      <td>74</td>\n",
       "      <td>0</td>\n",
       "      <td>0</td>\n",
       "      <td>30.1</td>\n",
       "      <td>0.300</td>\n",
       "      <td>35</td>\n",
       "    </tr>\n",
       "    <tr>\n",
       "      <th>684</th>\n",
       "      <td>5</td>\n",
       "      <td>136</td>\n",
       "      <td>82</td>\n",
       "      <td>0</td>\n",
       "      <td>0</td>\n",
       "      <td>0.0</td>\n",
       "      <td>0.640</td>\n",
       "      <td>69</td>\n",
       "    </tr>\n",
       "  </tbody>\n",
       "</table>\n",
       "<p>576 rows × 8 columns</p>\n",
       "</div>"
      ],
      "text/plain": [
       "     Pregnancies  Glucose  BloodPressure  SkinThickness  Insulin   BMI  \\\n",
       "762            9       89             62              0        0  22.5   \n",
       "127            1      118             58             36       94  33.3   \n",
       "564            0       91             80              0        0  32.4   \n",
       "375           12      140             82             43      325  39.2   \n",
       "663            9      145             80             46      130  37.9   \n",
       "..           ...      ...            ...            ...      ...   ...   \n",
       "763           10      101             76             48      180  32.9   \n",
       "192            7      159             66              0        0  30.4   \n",
       "629            4       94             65             22        0  24.7   \n",
       "559           11       85             74              0        0  30.1   \n",
       "684            5      136             82              0        0   0.0   \n",
       "\n",
       "     DiabetesPedigreeFunction  Age  \n",
       "762                     0.142   33  \n",
       "127                     0.261   23  \n",
       "564                     0.601   27  \n",
       "375                     0.528   58  \n",
       "663                     0.637   40  \n",
       "..                        ...  ...  \n",
       "763                     0.171   63  \n",
       "192                     0.383   36  \n",
       "629                     0.148   21  \n",
       "559                     0.300   35  \n",
       "684                     0.640   69  \n",
       "\n",
       "[576 rows x 8 columns]"
      ]
     },
     "execution_count": 13,
     "metadata": {},
     "output_type": "execute_result"
    }
   ],
   "source": [
    "x_train"
   ]
  },
  {
   "cell_type": "code",
   "execution_count": 14,
   "id": "c005b311-523b-485f-874f-0ed0beae4c47",
   "metadata": {},
   "outputs": [],
   "source": [
    "from sklearn.preprocessing import StandardScaler"
   ]
  },
  {
   "cell_type": "code",
   "execution_count": 15,
   "id": "c6cc193b-35a5-4b0e-9215-ac42b94a37fe",
   "metadata": {},
   "outputs": [],
   "source": [
    "scale = StandardScaler()"
   ]
  },
  {
   "cell_type": "code",
   "execution_count": 19,
   "id": "04838af3-fa62-4c84-bd1f-ef889a801b8a",
   "metadata": {},
   "outputs": [],
   "source": [
    "x_train_scaled = scale.fit_transform(x_train)\n",
    "x_test_scaled = scale.transform(x_test)"
   ]
  },
  {
   "cell_type": "code",
   "execution_count": 20,
   "id": "f4673945-15bc-4325-80cb-f5edd33b362a",
   "metadata": {},
   "outputs": [],
   "source": [
    "from sklearn.svm import SVC"
   ]
  },
  {
   "cell_type": "code",
   "execution_count": 21,
   "id": "b8399972-c75c-4d62-a40c-94cbd0a873c3",
   "metadata": {},
   "outputs": [],
   "source": [
    "svc = SVC(kernel=\"linear\")"
   ]
  },
  {
   "cell_type": "code",
   "execution_count": 22,
   "id": "fa78ea14-40d6-44cc-b3e4-eb424dcd37e5",
   "metadata": {},
   "outputs": [
    {
     "data": {
      "text/html": [
       "<style>#sk-container-id-1 {color: black;background-color: white;}#sk-container-id-1 pre{padding: 0;}#sk-container-id-1 div.sk-toggleable {background-color: white;}#sk-container-id-1 label.sk-toggleable__label {cursor: pointer;display: block;width: 100%;margin-bottom: 0;padding: 0.3em;box-sizing: border-box;text-align: center;}#sk-container-id-1 label.sk-toggleable__label-arrow:before {content: \"▸\";float: left;margin-right: 0.25em;color: #696969;}#sk-container-id-1 label.sk-toggleable__label-arrow:hover:before {color: black;}#sk-container-id-1 div.sk-estimator:hover label.sk-toggleable__label-arrow:before {color: black;}#sk-container-id-1 div.sk-toggleable__content {max-height: 0;max-width: 0;overflow: hidden;text-align: left;background-color: #f0f8ff;}#sk-container-id-1 div.sk-toggleable__content pre {margin: 0.2em;color: black;border-radius: 0.25em;background-color: #f0f8ff;}#sk-container-id-1 input.sk-toggleable__control:checked~div.sk-toggleable__content {max-height: 200px;max-width: 100%;overflow: auto;}#sk-container-id-1 input.sk-toggleable__control:checked~label.sk-toggleable__label-arrow:before {content: \"▾\";}#sk-container-id-1 div.sk-estimator input.sk-toggleable__control:checked~label.sk-toggleable__label {background-color: #d4ebff;}#sk-container-id-1 div.sk-label input.sk-toggleable__control:checked~label.sk-toggleable__label {background-color: #d4ebff;}#sk-container-id-1 input.sk-hidden--visually {border: 0;clip: rect(1px 1px 1px 1px);clip: rect(1px, 1px, 1px, 1px);height: 1px;margin: -1px;overflow: hidden;padding: 0;position: absolute;width: 1px;}#sk-container-id-1 div.sk-estimator {font-family: monospace;background-color: #f0f8ff;border: 1px dotted black;border-radius: 0.25em;box-sizing: border-box;margin-bottom: 0.5em;}#sk-container-id-1 div.sk-estimator:hover {background-color: #d4ebff;}#sk-container-id-1 div.sk-parallel-item::after {content: \"\";width: 100%;border-bottom: 1px solid gray;flex-grow: 1;}#sk-container-id-1 div.sk-label:hover label.sk-toggleable__label {background-color: #d4ebff;}#sk-container-id-1 div.sk-serial::before {content: \"\";position: absolute;border-left: 1px solid gray;box-sizing: border-box;top: 0;bottom: 0;left: 50%;z-index: 0;}#sk-container-id-1 div.sk-serial {display: flex;flex-direction: column;align-items: center;background-color: white;padding-right: 0.2em;padding-left: 0.2em;position: relative;}#sk-container-id-1 div.sk-item {position: relative;z-index: 1;}#sk-container-id-1 div.sk-parallel {display: flex;align-items: stretch;justify-content: center;background-color: white;position: relative;}#sk-container-id-1 div.sk-item::before, #sk-container-id-1 div.sk-parallel-item::before {content: \"\";position: absolute;border-left: 1px solid gray;box-sizing: border-box;top: 0;bottom: 0;left: 50%;z-index: -1;}#sk-container-id-1 div.sk-parallel-item {display: flex;flex-direction: column;z-index: 1;position: relative;background-color: white;}#sk-container-id-1 div.sk-parallel-item:first-child::after {align-self: flex-end;width: 50%;}#sk-container-id-1 div.sk-parallel-item:last-child::after {align-self: flex-start;width: 50%;}#sk-container-id-1 div.sk-parallel-item:only-child::after {width: 0;}#sk-container-id-1 div.sk-dashed-wrapped {border: 1px dashed gray;margin: 0 0.4em 0.5em 0.4em;box-sizing: border-box;padding-bottom: 0.4em;background-color: white;}#sk-container-id-1 div.sk-label label {font-family: monospace;font-weight: bold;display: inline-block;line-height: 1.2em;}#sk-container-id-1 div.sk-label-container {text-align: center;}#sk-container-id-1 div.sk-container {/* jupyter's `normalize.less` sets `[hidden] { display: none; }` but bootstrap.min.css set `[hidden] { display: none !important; }` so we also need the `!important` here to be able to override the default hidden behavior on the sphinx rendered scikit-learn.org. See: https://github.com/scikit-learn/scikit-learn/issues/21755 */display: inline-block !important;position: relative;}#sk-container-id-1 div.sk-text-repr-fallback {display: none;}</style><div id=\"sk-container-id-1\" class=\"sk-top-container\"><div class=\"sk-text-repr-fallback\"><pre>SVC(kernel=&#x27;linear&#x27;)</pre><b>In a Jupyter environment, please rerun this cell to show the HTML representation or trust the notebook. <br />On GitHub, the HTML representation is unable to render, please try loading this page with nbviewer.org.</b></div><div class=\"sk-container\" hidden><div class=\"sk-item\"><div class=\"sk-estimator sk-toggleable\"><input class=\"sk-toggleable__control sk-hidden--visually\" id=\"sk-estimator-id-1\" type=\"checkbox\" checked><label for=\"sk-estimator-id-1\" class=\"sk-toggleable__label sk-toggleable__label-arrow\">SVC</label><div class=\"sk-toggleable__content\"><pre>SVC(kernel=&#x27;linear&#x27;)</pre></div></div></div></div></div>"
      ],
      "text/plain": [
       "SVC(kernel='linear')"
      ]
     },
     "execution_count": 22,
     "metadata": {},
     "output_type": "execute_result"
    }
   ],
   "source": [
    "svc.fit(x_train_scaled,y_train)"
   ]
  },
  {
   "cell_type": "code",
   "execution_count": 23,
   "id": "4655085e-32b4-44e6-86a6-f925e4551c8e",
   "metadata": {},
   "outputs": [],
   "source": [
    "y_pred = svc.predict(x_test_scaled)"
   ]
  },
  {
   "cell_type": "code",
   "execution_count": 26,
   "id": "1a8c01c7-d764-4c02-b226-29b1a3c0a767",
   "metadata": {},
   "outputs": [],
   "source": [
    "from sklearn.metrics import accuracy_score,classification_report"
   ]
  },
  {
   "cell_type": "code",
   "execution_count": 27,
   "id": "772477d6-1b43-42b0-bb65-c42ea2c9c4c8",
   "metadata": {},
   "outputs": [
    {
     "name": "stdout",
     "output_type": "stream",
     "text": [
      "0.8020833333333334\n",
      "              precision    recall  f1-score   support\n",
      "\n",
      "           0       0.90      0.82      0.86       142\n",
      "           1       0.60      0.74      0.66        50\n",
      "\n",
      "    accuracy                           0.80       192\n",
      "   macro avg       0.75      0.78      0.76       192\n",
      "weighted avg       0.82      0.80      0.81       192\n",
      "\n"
     ]
    }
   ],
   "source": [
    "print(accuracy_score(y_pred,y_test))\n",
    "print(classification_report(y_pred,y_test))"
   ]
  },
  {
   "cell_type": "code",
   "execution_count": 28,
   "id": "66375f55-17b8-4182-b68c-1c2536b92fcb",
   "metadata": {},
   "outputs": [],
   "source": [
    "from sklearn.model_selection import GridSearchCV"
   ]
  },
  {
   "cell_type": "code",
   "execution_count": 29,
   "id": "f6ee31ec-2f35-4267-a8a6-8fd5d29ea6db",
   "metadata": {},
   "outputs": [],
   "source": [
    "parameter = {\n",
    "    'C' :[0.1 , 1 , 10 , 100 , 1000],\n",
    "    'gamma':[1,0.1,0.01,0.001,0.0001],\n",
    "    'kernel':['linear']\n",
    "}"
   ]
  },
  {
   "cell_type": "code",
   "execution_count": 30,
   "id": "fe24ce47-6df9-498f-b80d-1c0e37a75d50",
   "metadata": {},
   "outputs": [],
   "source": [
    "clf = GridSearchCV(svc, param_grid=parameter , refit=True , cv=5 , verbose=3)"
   ]
  },
  {
   "cell_type": "code",
   "execution_count": 32,
   "id": "276015c3-af8e-4a15-905f-0e4654f6541f",
   "metadata": {},
   "outputs": [
    {
     "name": "stdout",
     "output_type": "stream",
     "text": [
      "Fitting 5 folds for each of 25 candidates, totalling 125 fits\n",
      "[CV 1/5] END .....C=0.1, gamma=1, kernel=linear;, score=0.776 total time=   0.0s\n",
      "[CV 2/5] END .....C=0.1, gamma=1, kernel=linear;, score=0.783 total time=   0.0s\n",
      "[CV 3/5] END .....C=0.1, gamma=1, kernel=linear;, score=0.757 total time=   0.0s\n",
      "[CV 4/5] END .....C=0.1, gamma=1, kernel=linear;, score=0.696 total time=   0.0s\n",
      "[CV 5/5] END .....C=0.1, gamma=1, kernel=linear;, score=0.774 total time=   0.0s\n",
      "[CV 1/5] END ...C=0.1, gamma=0.1, kernel=linear;, score=0.776 total time=   0.0s\n",
      "[CV 2/5] END ...C=0.1, gamma=0.1, kernel=linear;, score=0.783 total time=   0.0s\n",
      "[CV 3/5] END ...C=0.1, gamma=0.1, kernel=linear;, score=0.757 total time=   0.0s\n",
      "[CV 4/5] END ...C=0.1, gamma=0.1, kernel=linear;, score=0.696 total time=   0.0s\n",
      "[CV 5/5] END ...C=0.1, gamma=0.1, kernel=linear;, score=0.774 total time=   0.0s\n",
      "[CV 1/5] END ..C=0.1, gamma=0.01, kernel=linear;, score=0.776 total time=   0.0s\n",
      "[CV 2/5] END ..C=0.1, gamma=0.01, kernel=linear;, score=0.783 total time=   0.0s\n",
      "[CV 3/5] END ..C=0.1, gamma=0.01, kernel=linear;, score=0.757 total time=   0.0s\n",
      "[CV 4/5] END ..C=0.1, gamma=0.01, kernel=linear;, score=0.696 total time=   0.0s\n",
      "[CV 5/5] END ..C=0.1, gamma=0.01, kernel=linear;, score=0.774 total time=   0.0s\n",
      "[CV 1/5] END .C=0.1, gamma=0.001, kernel=linear;, score=0.776 total time=   0.0s\n",
      "[CV 2/5] END .C=0.1, gamma=0.001, kernel=linear;, score=0.783 total time=   0.0s\n",
      "[CV 3/5] END .C=0.1, gamma=0.001, kernel=linear;, score=0.757 total time=   0.0s\n",
      "[CV 4/5] END .C=0.1, gamma=0.001, kernel=linear;, score=0.696 total time=   0.0s\n",
      "[CV 5/5] END .C=0.1, gamma=0.001, kernel=linear;, score=0.774 total time=   0.0s\n",
      "[CV 1/5] END C=0.1, gamma=0.0001, kernel=linear;, score=0.776 total time=   0.0s\n",
      "[CV 2/5] END C=0.1, gamma=0.0001, kernel=linear;, score=0.783 total time=   0.0s\n",
      "[CV 3/5] END C=0.1, gamma=0.0001, kernel=linear;, score=0.757 total time=   0.0s\n",
      "[CV 4/5] END C=0.1, gamma=0.0001, kernel=linear;, score=0.696 total time=   0.0s\n",
      "[CV 5/5] END C=0.1, gamma=0.0001, kernel=linear;, score=0.774 total time=   0.0s\n",
      "[CV 1/5] END .......C=1, gamma=1, kernel=linear;, score=0.767 total time=   0.0s\n",
      "[CV 2/5] END .......C=1, gamma=1, kernel=linear;, score=0.774 total time=   0.0s\n",
      "[CV 3/5] END .......C=1, gamma=1, kernel=linear;, score=0.748 total time=   0.0s\n",
      "[CV 4/5] END .......C=1, gamma=1, kernel=linear;, score=0.704 total time=   0.0s\n",
      "[CV 5/5] END .......C=1, gamma=1, kernel=linear;, score=0.791 total time=   0.0s\n",
      "[CV 1/5] END .....C=1, gamma=0.1, kernel=linear;, score=0.767 total time=   0.0s\n",
      "[CV 2/5] END .....C=1, gamma=0.1, kernel=linear;, score=0.774 total time=   0.0s\n",
      "[CV 3/5] END .....C=1, gamma=0.1, kernel=linear;, score=0.748 total time=   0.0s\n",
      "[CV 4/5] END .....C=1, gamma=0.1, kernel=linear;, score=0.704 total time=   0.0s\n",
      "[CV 5/5] END .....C=1, gamma=0.1, kernel=linear;, score=0.791 total time=   0.0s\n",
      "[CV 1/5] END ....C=1, gamma=0.01, kernel=linear;, score=0.767 total time=   0.0s\n",
      "[CV 2/5] END ....C=1, gamma=0.01, kernel=linear;, score=0.774 total time=   0.0s\n",
      "[CV 3/5] END ....C=1, gamma=0.01, kernel=linear;, score=0.748 total time=   0.0s\n",
      "[CV 4/5] END ....C=1, gamma=0.01, kernel=linear;, score=0.704 total time=   0.0s\n",
      "[CV 5/5] END ....C=1, gamma=0.01, kernel=linear;, score=0.791 total time=   0.0s\n",
      "[CV 1/5] END ...C=1, gamma=0.001, kernel=linear;, score=0.767 total time=   0.0s\n",
      "[CV 2/5] END ...C=1, gamma=0.001, kernel=linear;, score=0.774 total time=   0.0s\n",
      "[CV 3/5] END ...C=1, gamma=0.001, kernel=linear;, score=0.748 total time=   0.0s\n",
      "[CV 4/5] END ...C=1, gamma=0.001, kernel=linear;, score=0.704 total time=   0.0s\n",
      "[CV 5/5] END ...C=1, gamma=0.001, kernel=linear;, score=0.791 total time=   0.0s\n",
      "[CV 1/5] END ..C=1, gamma=0.0001, kernel=linear;, score=0.767 total time=   0.0s\n",
      "[CV 2/5] END ..C=1, gamma=0.0001, kernel=linear;, score=0.774 total time=   0.0s\n",
      "[CV 3/5] END ..C=1, gamma=0.0001, kernel=linear;, score=0.748 total time=   0.0s\n",
      "[CV 4/5] END ..C=1, gamma=0.0001, kernel=linear;, score=0.704 total time=   0.0s\n",
      "[CV 5/5] END ..C=1, gamma=0.0001, kernel=linear;, score=0.791 total time=   0.0s\n",
      "[CV 1/5] END ......C=10, gamma=1, kernel=linear;, score=0.767 total time=   0.0s\n",
      "[CV 2/5] END ......C=10, gamma=1, kernel=linear;, score=0.774 total time=   0.0s\n",
      "[CV 3/5] END ......C=10, gamma=1, kernel=linear;, score=0.757 total time=   0.0s\n",
      "[CV 4/5] END ......C=10, gamma=1, kernel=linear;, score=0.704 total time=   0.0s\n",
      "[CV 5/5] END ......C=10, gamma=1, kernel=linear;, score=0.791 total time=   0.0s\n",
      "[CV 1/5] END ....C=10, gamma=0.1, kernel=linear;, score=0.767 total time=   0.0s\n",
      "[CV 2/5] END ....C=10, gamma=0.1, kernel=linear;, score=0.774 total time=   0.0s\n",
      "[CV 3/5] END ....C=10, gamma=0.1, kernel=linear;, score=0.757 total time=   0.0s\n",
      "[CV 4/5] END ....C=10, gamma=0.1, kernel=linear;, score=0.704 total time=   0.0s\n",
      "[CV 5/5] END ....C=10, gamma=0.1, kernel=linear;, score=0.791 total time=   0.0s\n",
      "[CV 1/5] END ...C=10, gamma=0.01, kernel=linear;, score=0.767 total time=   0.0s\n",
      "[CV 2/5] END ...C=10, gamma=0.01, kernel=linear;, score=0.774 total time=   0.0s\n",
      "[CV 3/5] END ...C=10, gamma=0.01, kernel=linear;, score=0.757 total time=   0.0s\n",
      "[CV 4/5] END ...C=10, gamma=0.01, kernel=linear;, score=0.704 total time=   0.0s\n",
      "[CV 5/5] END ...C=10, gamma=0.01, kernel=linear;, score=0.791 total time=   0.0s\n",
      "[CV 1/5] END ..C=10, gamma=0.001, kernel=linear;, score=0.767 total time=   0.0s\n",
      "[CV 2/5] END ..C=10, gamma=0.001, kernel=linear;, score=0.774 total time=   0.0s\n",
      "[CV 3/5] END ..C=10, gamma=0.001, kernel=linear;, score=0.757 total time=   0.0s\n",
      "[CV 4/5] END ..C=10, gamma=0.001, kernel=linear;, score=0.704 total time=   0.0s\n",
      "[CV 5/5] END ..C=10, gamma=0.001, kernel=linear;, score=0.791 total time=   0.0s\n",
      "[CV 1/5] END .C=10, gamma=0.0001, kernel=linear;, score=0.767 total time=   0.0s\n",
      "[CV 2/5] END .C=10, gamma=0.0001, kernel=linear;, score=0.774 total time=   0.0s\n",
      "[CV 3/5] END .C=10, gamma=0.0001, kernel=linear;, score=0.757 total time=   0.0s\n",
      "[CV 4/5] END .C=10, gamma=0.0001, kernel=linear;, score=0.704 total time=   0.0s\n",
      "[CV 5/5] END .C=10, gamma=0.0001, kernel=linear;, score=0.791 total time=   0.0s\n",
      "[CV 1/5] END .....C=100, gamma=1, kernel=linear;, score=0.767 total time=   0.3s\n",
      "[CV 2/5] END .....C=100, gamma=1, kernel=linear;, score=0.774 total time=   0.2s\n",
      "[CV 3/5] END .....C=100, gamma=1, kernel=linear;, score=0.757 total time=   0.3s\n",
      "[CV 4/5] END .....C=100, gamma=1, kernel=linear;, score=0.704 total time=   0.2s\n",
      "[CV 5/5] END .....C=100, gamma=1, kernel=linear;, score=0.791 total time=   0.2s\n",
      "[CV 1/5] END ...C=100, gamma=0.1, kernel=linear;, score=0.767 total time=   0.3s\n",
      "[CV 2/5] END ...C=100, gamma=0.1, kernel=linear;, score=0.774 total time=   0.2s\n",
      "[CV 3/5] END ...C=100, gamma=0.1, kernel=linear;, score=0.757 total time=   0.3s\n",
      "[CV 4/5] END ...C=100, gamma=0.1, kernel=linear;, score=0.704 total time=   0.2s\n",
      "[CV 5/5] END ...C=100, gamma=0.1, kernel=linear;, score=0.791 total time=   0.3s\n",
      "[CV 1/5] END ..C=100, gamma=0.01, kernel=linear;, score=0.767 total time=   0.3s\n",
      "[CV 2/5] END ..C=100, gamma=0.01, kernel=linear;, score=0.774 total time=   0.2s\n",
      "[CV 3/5] END ..C=100, gamma=0.01, kernel=linear;, score=0.757 total time=   0.3s\n",
      "[CV 4/5] END ..C=100, gamma=0.01, kernel=linear;, score=0.704 total time=   0.2s\n",
      "[CV 5/5] END ..C=100, gamma=0.01, kernel=linear;, score=0.791 total time=   0.2s\n",
      "[CV 1/5] END .C=100, gamma=0.001, kernel=linear;, score=0.767 total time=   0.3s\n",
      "[CV 2/5] END .C=100, gamma=0.001, kernel=linear;, score=0.774 total time=   0.2s\n",
      "[CV 3/5] END .C=100, gamma=0.001, kernel=linear;, score=0.757 total time=   0.3s\n",
      "[CV 4/5] END .C=100, gamma=0.001, kernel=linear;, score=0.704 total time=   0.2s\n",
      "[CV 5/5] END .C=100, gamma=0.001, kernel=linear;, score=0.791 total time=   0.2s\n",
      "[CV 1/5] END C=100, gamma=0.0001, kernel=linear;, score=0.767 total time=   0.3s\n",
      "[CV 2/5] END C=100, gamma=0.0001, kernel=linear;, score=0.774 total time=   0.2s\n",
      "[CV 3/5] END C=100, gamma=0.0001, kernel=linear;, score=0.757 total time=   0.3s\n",
      "[CV 4/5] END C=100, gamma=0.0001, kernel=linear;, score=0.704 total time=   0.2s\n",
      "[CV 5/5] END C=100, gamma=0.0001, kernel=linear;, score=0.791 total time=   0.2s\n",
      "[CV 1/5] END ....C=1000, gamma=1, kernel=linear;, score=0.767 total time=   3.2s\n",
      "[CV 2/5] END ....C=1000, gamma=1, kernel=linear;, score=0.774 total time=   2.8s\n",
      "[CV 3/5] END ....C=1000, gamma=1, kernel=linear;, score=0.757 total time=   2.7s\n",
      "[CV 4/5] END ....C=1000, gamma=1, kernel=linear;, score=0.704 total time=   1.5s\n",
      "[CV 5/5] END ....C=1000, gamma=1, kernel=linear;, score=0.791 total time=   2.1s\n",
      "[CV 1/5] END ..C=1000, gamma=0.1, kernel=linear;, score=0.767 total time=   3.2s\n",
      "[CV 2/5] END ..C=1000, gamma=0.1, kernel=linear;, score=0.774 total time=   2.8s\n",
      "[CV 3/5] END ..C=1000, gamma=0.1, kernel=linear;, score=0.757 total time=   2.6s\n",
      "[CV 4/5] END ..C=1000, gamma=0.1, kernel=linear;, score=0.704 total time=   1.5s\n",
      "[CV 5/5] END ..C=1000, gamma=0.1, kernel=linear;, score=0.791 total time=   2.1s\n",
      "[CV 1/5] END .C=1000, gamma=0.01, kernel=linear;, score=0.767 total time=   3.1s\n",
      "[CV 2/5] END .C=1000, gamma=0.01, kernel=linear;, score=0.774 total time=   2.9s\n",
      "[CV 3/5] END .C=1000, gamma=0.01, kernel=linear;, score=0.757 total time=   2.6s\n",
      "[CV 4/5] END .C=1000, gamma=0.01, kernel=linear;, score=0.704 total time=   1.5s\n",
      "[CV 5/5] END .C=1000, gamma=0.01, kernel=linear;, score=0.791 total time=   2.1s\n",
      "[CV 1/5] END C=1000, gamma=0.001, kernel=linear;, score=0.767 total time=   3.2s\n",
      "[CV 2/5] END C=1000, gamma=0.001, kernel=linear;, score=0.774 total time=   2.8s\n",
      "[CV 3/5] END C=1000, gamma=0.001, kernel=linear;, score=0.757 total time=   2.7s\n",
      "[CV 4/5] END C=1000, gamma=0.001, kernel=linear;, score=0.704 total time=   1.5s\n",
      "[CV 5/5] END C=1000, gamma=0.001, kernel=linear;, score=0.791 total time=   2.0s\n",
      "[CV 1/5] END C=1000, gamma=0.0001, kernel=linear;, score=0.767 total time=   3.1s\n",
      "[CV 2/5] END C=1000, gamma=0.0001, kernel=linear;, score=0.774 total time=   2.8s\n",
      "[CV 3/5] END C=1000, gamma=0.0001, kernel=linear;, score=0.757 total time=   2.6s\n",
      "[CV 4/5] END C=1000, gamma=0.0001, kernel=linear;, score=0.704 total time=   1.5s\n",
      "[CV 5/5] END C=1000, gamma=0.0001, kernel=linear;, score=0.791 total time=   2.0s\n"
     ]
    },
    {
     "data": {
      "text/html": [
       "<style>#sk-container-id-2 {color: black;background-color: white;}#sk-container-id-2 pre{padding: 0;}#sk-container-id-2 div.sk-toggleable {background-color: white;}#sk-container-id-2 label.sk-toggleable__label {cursor: pointer;display: block;width: 100%;margin-bottom: 0;padding: 0.3em;box-sizing: border-box;text-align: center;}#sk-container-id-2 label.sk-toggleable__label-arrow:before {content: \"▸\";float: left;margin-right: 0.25em;color: #696969;}#sk-container-id-2 label.sk-toggleable__label-arrow:hover:before {color: black;}#sk-container-id-2 div.sk-estimator:hover label.sk-toggleable__label-arrow:before {color: black;}#sk-container-id-2 div.sk-toggleable__content {max-height: 0;max-width: 0;overflow: hidden;text-align: left;background-color: #f0f8ff;}#sk-container-id-2 div.sk-toggleable__content pre {margin: 0.2em;color: black;border-radius: 0.25em;background-color: #f0f8ff;}#sk-container-id-2 input.sk-toggleable__control:checked~div.sk-toggleable__content {max-height: 200px;max-width: 100%;overflow: auto;}#sk-container-id-2 input.sk-toggleable__control:checked~label.sk-toggleable__label-arrow:before {content: \"▾\";}#sk-container-id-2 div.sk-estimator input.sk-toggleable__control:checked~label.sk-toggleable__label {background-color: #d4ebff;}#sk-container-id-2 div.sk-label input.sk-toggleable__control:checked~label.sk-toggleable__label {background-color: #d4ebff;}#sk-container-id-2 input.sk-hidden--visually {border: 0;clip: rect(1px 1px 1px 1px);clip: rect(1px, 1px, 1px, 1px);height: 1px;margin: -1px;overflow: hidden;padding: 0;position: absolute;width: 1px;}#sk-container-id-2 div.sk-estimator {font-family: monospace;background-color: #f0f8ff;border: 1px dotted black;border-radius: 0.25em;box-sizing: border-box;margin-bottom: 0.5em;}#sk-container-id-2 div.sk-estimator:hover {background-color: #d4ebff;}#sk-container-id-2 div.sk-parallel-item::after {content: \"\";width: 100%;border-bottom: 1px solid gray;flex-grow: 1;}#sk-container-id-2 div.sk-label:hover label.sk-toggleable__label {background-color: #d4ebff;}#sk-container-id-2 div.sk-serial::before {content: \"\";position: absolute;border-left: 1px solid gray;box-sizing: border-box;top: 0;bottom: 0;left: 50%;z-index: 0;}#sk-container-id-2 div.sk-serial {display: flex;flex-direction: column;align-items: center;background-color: white;padding-right: 0.2em;padding-left: 0.2em;position: relative;}#sk-container-id-2 div.sk-item {position: relative;z-index: 1;}#sk-container-id-2 div.sk-parallel {display: flex;align-items: stretch;justify-content: center;background-color: white;position: relative;}#sk-container-id-2 div.sk-item::before, #sk-container-id-2 div.sk-parallel-item::before {content: \"\";position: absolute;border-left: 1px solid gray;box-sizing: border-box;top: 0;bottom: 0;left: 50%;z-index: -1;}#sk-container-id-2 div.sk-parallel-item {display: flex;flex-direction: column;z-index: 1;position: relative;background-color: white;}#sk-container-id-2 div.sk-parallel-item:first-child::after {align-self: flex-end;width: 50%;}#sk-container-id-2 div.sk-parallel-item:last-child::after {align-self: flex-start;width: 50%;}#sk-container-id-2 div.sk-parallel-item:only-child::after {width: 0;}#sk-container-id-2 div.sk-dashed-wrapped {border: 1px dashed gray;margin: 0 0.4em 0.5em 0.4em;box-sizing: border-box;padding-bottom: 0.4em;background-color: white;}#sk-container-id-2 div.sk-label label {font-family: monospace;font-weight: bold;display: inline-block;line-height: 1.2em;}#sk-container-id-2 div.sk-label-container {text-align: center;}#sk-container-id-2 div.sk-container {/* jupyter's `normalize.less` sets `[hidden] { display: none; }` but bootstrap.min.css set `[hidden] { display: none !important; }` so we also need the `!important` here to be able to override the default hidden behavior on the sphinx rendered scikit-learn.org. See: https://github.com/scikit-learn/scikit-learn/issues/21755 */display: inline-block !important;position: relative;}#sk-container-id-2 div.sk-text-repr-fallback {display: none;}</style><div id=\"sk-container-id-2\" class=\"sk-top-container\"><div class=\"sk-text-repr-fallback\"><pre>GridSearchCV(cv=5, estimator=SVC(kernel=&#x27;linear&#x27;),\n",
       "             param_grid={&#x27;C&#x27;: [0.1, 1, 10, 100, 1000],\n",
       "                         &#x27;gamma&#x27;: [1, 0.1, 0.01, 0.001, 0.0001],\n",
       "                         &#x27;kernel&#x27;: [&#x27;linear&#x27;]},\n",
       "             verbose=3)</pre><b>In a Jupyter environment, please rerun this cell to show the HTML representation or trust the notebook. <br />On GitHub, the HTML representation is unable to render, please try loading this page with nbviewer.org.</b></div><div class=\"sk-container\" hidden><div class=\"sk-item sk-dashed-wrapped\"><div class=\"sk-label-container\"><div class=\"sk-label sk-toggleable\"><input class=\"sk-toggleable__control sk-hidden--visually\" id=\"sk-estimator-id-2\" type=\"checkbox\" ><label for=\"sk-estimator-id-2\" class=\"sk-toggleable__label sk-toggleable__label-arrow\">GridSearchCV</label><div class=\"sk-toggleable__content\"><pre>GridSearchCV(cv=5, estimator=SVC(kernel=&#x27;linear&#x27;),\n",
       "             param_grid={&#x27;C&#x27;: [0.1, 1, 10, 100, 1000],\n",
       "                         &#x27;gamma&#x27;: [1, 0.1, 0.01, 0.001, 0.0001],\n",
       "                         &#x27;kernel&#x27;: [&#x27;linear&#x27;]},\n",
       "             verbose=3)</pre></div></div></div><div class=\"sk-parallel\"><div class=\"sk-parallel-item\"><div class=\"sk-item\"><div class=\"sk-label-container\"><div class=\"sk-label sk-toggleable\"><input class=\"sk-toggleable__control sk-hidden--visually\" id=\"sk-estimator-id-3\" type=\"checkbox\" ><label for=\"sk-estimator-id-3\" class=\"sk-toggleable__label sk-toggleable__label-arrow\">estimator: SVC</label><div class=\"sk-toggleable__content\"><pre>SVC(kernel=&#x27;linear&#x27;)</pre></div></div></div><div class=\"sk-serial\"><div class=\"sk-item\"><div class=\"sk-estimator sk-toggleable\"><input class=\"sk-toggleable__control sk-hidden--visually\" id=\"sk-estimator-id-4\" type=\"checkbox\" ><label for=\"sk-estimator-id-4\" class=\"sk-toggleable__label sk-toggleable__label-arrow\">SVC</label><div class=\"sk-toggleable__content\"><pre>SVC(kernel=&#x27;linear&#x27;)</pre></div></div></div></div></div></div></div></div></div></div>"
      ],
      "text/plain": [
       "GridSearchCV(cv=5, estimator=SVC(kernel='linear'),\n",
       "             param_grid={'C': [0.1, 1, 10, 100, 1000],\n",
       "                         'gamma': [1, 0.1, 0.01, 0.001, 0.0001],\n",
       "                         'kernel': ['linear']},\n",
       "             verbose=3)"
      ]
     },
     "execution_count": 32,
     "metadata": {},
     "output_type": "execute_result"
    }
   ],
   "source": [
    "clf.fit(x_train_scaled,y_train)"
   ]
  },
  {
   "cell_type": "code",
   "execution_count": 33,
   "id": "2cc15349-0cb6-46a8-acab-7507cdc6e296",
   "metadata": {},
   "outputs": [
    {
     "data": {
      "text/plain": [
       "{'C': 10, 'gamma': 1, 'kernel': 'linear'}"
      ]
     },
     "execution_count": 33,
     "metadata": {},
     "output_type": "execute_result"
    }
   ],
   "source": [
    "clf.best_params_"
   ]
  },
  {
   "cell_type": "code",
   "execution_count": 34,
   "id": "918ae101-5c77-4250-b4e5-daa5d52868e5",
   "metadata": {},
   "outputs": [],
   "source": [
    "y_pred1 = clf.predict(x_test_scaled)"
   ]
  },
  {
   "cell_type": "code",
   "execution_count": 35,
   "id": "7edae19e-1557-47c8-87ff-595bec07eddb",
   "metadata": {},
   "outputs": [
    {
     "name": "stdout",
     "output_type": "stream",
     "text": [
      "0.8072916666666666\n",
      "              precision    recall  f1-score   support\n",
      "\n",
      "           0       0.91      0.83      0.86       143\n",
      "           1       0.60      0.76      0.67        49\n",
      "\n",
      "    accuracy                           0.81       192\n",
      "   macro avg       0.75      0.79      0.77       192\n",
      "weighted avg       0.83      0.81      0.81       192\n",
      "\n"
     ]
    }
   ],
   "source": [
    "print(accuracy_score(y_pred1,y_test))\n",
    "print(classification_report(y_pred1,y_test))"
   ]
  },
  {
   "cell_type": "code",
   "execution_count": 36,
   "id": "26f3774e-6faf-46a9-bde7-31e33cf68ee6",
   "metadata": {},
   "outputs": [],
   "source": [
    "import pickle"
   ]
  },
  {
   "cell_type": "code",
   "execution_count": 38,
   "id": "b61a421d-6b7a-4982-ac3c-36864c01278a",
   "metadata": {},
   "outputs": [],
   "source": [
    "pickle.dump(scale,open(\"scale.pkl\",\"wb\"))\n",
    "pickle.dump(clf,open(\"clf.pkl\",\"wb\"))"
   ]
  },
  {
   "cell_type": "code",
   "execution_count": null,
   "id": "0062eaf4-669e-40be-800b-825afe0f149e",
   "metadata": {},
   "outputs": [],
   "source": []
  }
 ],
 "metadata": {
  "kernelspec": {
   "display_name": "Python 3 (ipykernel)",
   "language": "python",
   "name": "python3"
  },
  "language_info": {
   "codemirror_mode": {
    "name": "ipython",
    "version": 3
   },
   "file_extension": ".py",
   "mimetype": "text/x-python",
   "name": "python",
   "nbconvert_exporter": "python",
   "pygments_lexer": "ipython3",
   "version": "3.10.8"
  }
 },
 "nbformat": 4,
 "nbformat_minor": 5
}
